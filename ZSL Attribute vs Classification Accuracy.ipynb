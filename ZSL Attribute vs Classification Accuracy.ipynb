{
 "cells": [
  {
   "cell_type": "code",
   "execution_count": 1,
   "metadata": {
    "colab": {},
    "colab_type": "code",
    "id": "5hV-7T07J27V"
   },
   "outputs": [],
   "source": [
    "from __future__ import absolute_import, division, print_function, unicode_literals\n",
    "import IPython.display as display\n",
    "from PIL import Image\n",
    "import tensorflow as tf\n",
    "from tensorflow.keras.models import Model\n",
    "from tensorflow.keras.layers import Dense, GlobalAveragePooling2D\n",
    "from tensorflow.keras import backend as K\n",
    "from tensorflow.keras.applications.inception_v3 import InceptionV3\n",
    "from tensorflow.keras.applications.resnet50 import ResNet50\n",
    "from tensorflow.keras.applications.inception_resnet_v2 import InceptionResNetV2\n",
    "from tensorflow.keras.layers import Input, Dense, Reshape, Flatten, Dropout\n",
    "import numpy as np\n",
    "import pathlib\n",
    "import pandas as pd\n",
    "import pickle\n",
    "from math import *\n",
    "import os\n",
    "from scipy import spatial\n",
    "from scipy import linalg\n",
    "from IPython.display import clear_output"
   ]
  },
  {
   "cell_type": "code",
   "execution_count": 2,
   "metadata": {},
   "outputs": [],
   "source": [
    "predicateb = pd.read_csv('/home/gswaminathanpurdue/PredicateA.csv',header=None)\n",
    "dum = predicateb.loc[:,1:]\n",
    "dum.index = predicateb.loc[:,0]\n",
    "predicateb = dum.iloc[1:,]"
   ]
  },
  {
   "cell_type": "code",
   "execution_count": 3,
   "metadata": {},
   "outputs": [],
   "source": [
    "predicate = pd.read_csv('/home/gswaminathanpurdue/PredicateB.csv',header=None)\n",
    "dum = predicate.loc[:,1:]\n",
    "dum.index = predicate.loc[:,0]\n",
    "predicate = dum.iloc[1:,]\n"
   ]
  },
  {
   "cell_type": "code",
   "execution_count": 4,
   "metadata": {},
   "outputs": [],
   "source": [
    "# data_dir = tf.keras.utils.get_file(origin='https://cvml.ist.ac.at/AwA2/AwA2-data.zip',fname='Data', untar=True, extract = True, archive_format=True)"
   ]
  },
  {
   "cell_type": "code",
   "execution_count": 5,
   "metadata": {
    "colab": {},
    "colab_type": "code",
    "id": "Fm_mTICcKOO3"
   },
   "outputs": [
    {
     "data": {
      "text/plain": [
       "PosixPath('/home/gswaminathanpurdue/Data')"
      ]
     },
     "execution_count": 5,
     "metadata": {},
     "output_type": "execute_result"
    }
   ],
   "source": [
    "data_dir = '/home/gswaminathanpurdue/Data'\n",
    "data_dir = pathlib.Path(data_dir)\n",
    "data_dir"
   ]
  },
  {
   "cell_type": "code",
   "execution_count": 6,
   "metadata": {
    "colab": {},
    "colab_type": "code",
    "id": "4kKWw7SXKW13"
   },
   "outputs": [],
   "source": [
    "image_count = len(list(data_dir.glob('*/*.jpg')))"
   ]
  },
  {
   "cell_type": "code",
   "execution_count": 7,
   "metadata": {
    "colab": {},
    "colab_type": "code",
    "id": "tG7MgB0PKa2j"
   },
   "outputs": [
    {
     "name": "stdout",
     "output_type": "stream",
     "text": [
      "['skunk' 'weasel' 'humpback+whale' 'horse' 'sheep' 'bobcat' 'pig' 'deer'\n",
      " 'german+shepherd' 'hamster' 'chihuahua' 'leopard' 'persian+cat' 'tiger'\n",
      " 'grizzly+bear' 'hippopotamus' 'giant+panda' 'fox' 'squirrel' 'cow'\n",
      " 'siamese+cat' 'dalmatian' 'blue+whale' 'ox' 'seal' 'moose' 'rat'\n",
      " 'elephant' 'mole' 'gorilla' 'walrus' 'rhinoceros' 'wolf' 'otter' 'collie'\n",
      " 'raccoon' 'bat' 'dolphin' 'mouse' 'zebra' 'spider+monkey' 'chimpanzee'\n",
      " 'killer+whale' 'polar+bear' 'giraffe' 'buffalo' 'lion' 'beaver'\n",
      " 'antelope' 'rabbit']\n"
     ]
    }
   ],
   "source": [
    "CLASS_NAMES = np.array([item.name for item in data_dir.glob('*') if item.name != \"LICENSE.txt\"])\n",
    "print(CLASS_NAMES)\n",
    "class_names = list(CLASS_NAMES)"
   ]
  },
  {
   "cell_type": "code",
   "execution_count": 8,
   "metadata": {
    "colab": {},
    "colab_type": "code",
    "id": "HDN4NMHNMAuX"
   },
   "outputs": [],
   "source": [
    "choose = np.random.choice(range(50),40,replace=False)\n",
    "zslc = [x for x in range(0,50) if x not in choose]\n",
    "cl1 = CLASS_NAMES[choose]\n",
    "zslcl1 = CLASS_NAMES[zslc]"
   ]
  },
  {
   "cell_type": "code",
   "execution_count": 9,
   "metadata": {
    "colab": {},
    "colab_type": "code",
    "id": "x-4rUP4aKe9K"
   },
   "outputs": [
    {
     "name": "stdout",
     "output_type": "stream",
     "text": [
      "The labelled source data is: ['persian+cat' 'seal' 'polar+bear' 'rhinoceros' 'bat' 'blue+whale'\n",
      " 'hamster' 'killer+whale' 'weasel' 'siamese+cat' 'beaver' 'hippopotamus'\n",
      " 'leopard' 'wolf' 'zebra' 'chimpanzee' 'sheep' 'mouse' 'rabbit' 'cow'\n",
      " 'skunk' 'spider+monkey' 'elephant' 'horse' 'ox' 'otter' 'raccoon'\n",
      " 'giant+panda' 'dalmatian' 'buffalo' 'german+shepherd' 'tiger' 'rat'\n",
      " 'deer' 'pig' 'walrus' 'moose' 'antelope' 'squirrel' 'collie']\n",
      "the unlabelled target data is: ['humpback+whale' 'bobcat' 'chihuahua' 'grizzly+bear' 'fox' 'mole'\n",
      " 'gorilla' 'dolphin' 'giraffe' 'lion']\n"
     ]
    }
   ],
   "source": [
    "print('The labelled source data is:',cl1)\n",
    "print('the unlabelled target data is:',zslcl1)"
   ]
  },
  {
   "cell_type": "code",
   "execution_count": 10,
   "metadata": {
    "colab": {},
    "colab_type": "code",
    "id": "2mSTmKpVKllv"
   },
   "outputs": [],
   "source": [
    "image_generator = tf.keras.preprocessing.image.ImageDataGenerator(rescale=1./255)\n",
    "BATCH_SIZE = 1000 # Change for different batch size\n",
    "zslBATCH_SIZE = 500 # Change for different ZSL batch size\n",
    "IMG_HEIGHT = 224\n",
    "IMG_WIDTH = 224"
   ]
  },
  {
   "cell_type": "code",
   "execution_count": 11,
   "metadata": {
    "colab": {},
    "colab_type": "code",
    "id": "CXEWOHF8K8Pu"
   },
   "outputs": [
    {
     "name": "stdout",
     "output_type": "stream",
     "text": [
      "Found 29761 images belonging to 40 classes.\n"
     ]
    }
   ],
   "source": [
    "train_data_gen = image_generator.flow_from_directory(directory=str(data_dir),\n",
    "                                                     batch_size=BATCH_SIZE,\n",
    "                                                     shuffle=True,\n",
    "                                                     target_size=(IMG_HEIGHT, IMG_WIDTH),\n",
    "                                                     classes = list(cl1))"
   ]
  },
  {
   "cell_type": "code",
   "execution_count": 12,
   "metadata": {
    "colab": {},
    "colab_type": "code",
    "id": "nmHd0b8ZLCkK"
   },
   "outputs": [
    {
     "name": "stdout",
     "output_type": "stream",
     "text": [
      "Found 7561 images belonging to 10 classes.\n"
     ]
    }
   ],
   "source": [
    "zsl_data_gen = image_generator.flow_from_directory(directory=str(data_dir),\n",
    "                                                     batch_size=zslBATCH_SIZE,\n",
    "                                                     shuffle=True,\n",
    "                                                     target_size=(IMG_HEIGHT, IMG_WIDTH),\n",
    "                                                     classes = list(zslcl1))"
   ]
  },
  {
   "cell_type": "markdown",
   "metadata": {
    "colab_type": "text",
    "id": "7SBTLAkiR8XS"
   },
   "source": [
    "ATTRIBUTE ACCURACY MEASUREMENT"
   ]
  },
  {
   "cell_type": "code",
   "execution_count": 13,
   "metadata": {
    "colab": {},
    "colab_type": "code",
    "id": "TnmEui44VLYz"
   },
   "outputs": [],
   "source": [
    "def smatrix(Y,nam):\n",
    "    sm =[]\n",
    "    for n in range(len(Y)):\n",
    "        a = nam[Y[n]==1][0]\n",
    "        b = predicateb.loc[a,:]\n",
    "        b = np.asarray(b,dtype=float).reshape(85,1)\n",
    "        sm.append(b)\n",
    "    sm = np.asarray(sm)\n",
    "    return sm"
   ]
  },
  {
   "cell_type": "code",
   "execution_count": 14,
   "metadata": {},
   "outputs": [
    {
     "name": "stdout",
     "output_type": "stream",
     "text": [
      "Choose your model a) Inception b) Inception-Resnet c) Resnet\n",
      "Inception\n"
     ]
    }
   ],
   "source": [
    "print('Choose your model a) Inception b) Inception-Resnet c) Resnet')\n",
    "a = str(input())"
   ]
  },
  {
   "cell_type": "code",
   "execution_count": 15,
   "metadata": {
    "colab": {},
    "colab_type": "code",
    "id": "s99tljEALZqP"
   },
   "outputs": [],
   "source": [
    "input_tensor = Input(shape=(224,224,3))\n",
    "if a=='Inception':\n",
    "    model = InceptionV3(input_tensor=input_tensor,weights='imagenet',include_top=True)\n",
    "elif a=='Resnet':\n",
    "    model = ResNet50(input_tensor=input_tensor,weights='imagenet',include_top=True)\n",
    "elif a=='Inception-Resnet':\n",
    "    model = InceptionResNetV2(input_tensor=input_tensor,weights='imagenet',include_top=True)\n",
    "else:\n",
    "    print('Unspecified model, Please try again')"
   ]
  },
  {
   "cell_type": "code",
   "execution_count": 16,
   "metadata": {
    "colab": {},
    "colab_type": "code",
    "id": "YOPvZmkoOOu0"
   },
   "outputs": [],
   "source": [
    "layer1 = Flatten()(model.layers[-3].output)\n",
    "layer2 = Dense(85,activation=tf.keras.layers.ReLU(max_value=1))(layer1)\n",
    "layer3 = Reshape((85,1))(layer2)\n",
    "layer4 = Flatten()(layer3)\n",
    "layer5 = Dense(40,activation='relu')(layer4)"
   ]
  },
  {
   "cell_type": "code",
   "execution_count": 17,
   "metadata": {
    "colab": {},
    "colab_type": "code",
    "id": "X07xyUt5O4yq"
   },
   "outputs": [],
   "source": [
    "new_model = Model([model.input],[layer2,layer5])"
   ]
  },
  {
   "cell_type": "code",
   "execution_count": 18,
   "metadata": {
    "colab": {},
    "colab_type": "code",
    "id": "QUWJgPXHP3GT"
   },
   "outputs": [],
   "source": [
    "new_model.compile(optimizer='Adam',loss='binary_crossentropy',metrics=['accuracy'])"
   ]
  },
  {
   "cell_type": "code",
   "execution_count": 19,
   "metadata": {
    "colab": {},
    "colab_type": "code",
    "id": "MC12Kjr1QGP2"
   },
   "outputs": [],
   "source": [
    "def SAE(X,S,lamb):\n",
    "    A=S.dot(S.T)\n",
    "    B=lamb*(X.dot(X.T))\n",
    "    C=(1+lamb)*(S.dot(X.T))\n",
    "    D=linalg.solve_sylvester(A,B,C)\n",
    "    return D"
   ]
  },
  {
   "cell_type": "code",
   "execution_count": 20,
   "metadata": {
    "colab": {},
    "colab_type": "code",
    "id": "NZXJdGSaRzQA"
   },
   "outputs": [],
   "source": [
    "def NormalizeFea(Y):\n",
    "    nS,mF = Y.shape\n",
    "    feaN=np.sqrt(np.sum(Y*Y,1))\n",
    "    dum=np.zeros((nS,mF))\n",
    "    for ii in range(mF):\n",
    "        dum[:,ii]=feaN\n",
    "    res=Y/dum\n",
    "    return res"
   ]
  },
  {
   "cell_type": "code",
   "execution_count": 21,
   "metadata": {
    "colab": {},
    "colab_type": "code",
    "id": "FfFjtTlWaBjV"
   },
   "outputs": [],
   "source": [
    "def zmatrix(Y,nam):\n",
    "    sm =[]\n",
    "    for n in range(len(Y)):\n",
    "        a = nam[Y[n]==1][0]\n",
    "        b = predicate.loc[a,:]\n",
    "        b = np.asarray(b,dtype=float).reshape(85,1)\n",
    "        sm.append(b)\n",
    "    sm = np.asarray(sm)\n",
    "    return sm"
   ]
  },
  {
   "cell_type": "code",
   "execution_count": 22,
   "metadata": {
    "colab": {},
    "colab_type": "code",
    "id": "EVNaWXScalpr"
   },
   "outputs": [],
   "source": [
    "def stegt(Y,one = True):\n",
    "    ste = []\n",
    "    for i in Y:\n",
    "        if one:\n",
    "            a = predicate.loc[i,:]\n",
    "            a = np.asarray(a,dtype=float).reshape(85,1)\n",
    "            ste.append(a)\n",
    "        else:\n",
    "            a = class_names.index(i)\n",
    "            ste.append(a)\n",
    "    ste = np.asarray(ste)\n",
    "    return ste"
   ]
  },
  {
   "cell_type": "code",
   "execution_count": 23,
   "metadata": {
    "colab": {},
    "colab_type": "code",
    "id": "-hsutzI1cIoz"
   },
   "outputs": [],
   "source": [
    "def yte(Y,nam):\n",
    "    yt = []\n",
    "    for i in range(len(Y)):\n",
    "        a = nam[Y[i]==1][0]\n",
    "        a = class_names.index(a)\n",
    "        yt.append(a)\n",
    "    yt = np.asarray(yt)\n",
    "    return yt  "
   ]
  },
  {
   "cell_type": "code",
   "execution_count": 24,
   "metadata": {},
   "outputs": [],
   "source": [
    "getf = K.function([model.input],[model.layers[-2].output])\n",
    "attribute_accuracy = []"
   ]
  },
  {
   "cell_type": "code",
   "execution_count": 25,
   "metadata": {},
   "outputs": [],
   "source": [
    "batchX,batchY = next(train_data_gen)\n",
    "Xtr = getf([batchX])[0]  \n",
    "Xtr = NormalizeFea(Xtr.T).T\n",
    "Xtr = np.nan_to_num(Xtr)  \n",
    "Str = zmatrix(batchY,cl1)\n",
    "Str = Str.reshape(Str.shape[0],Str.shape[1]) "
   ]
  },
  {
   "cell_type": "code",
   "execution_count": 26,
   "metadata": {
    "colab": {},
    "colab_type": "code",
    "id": "_tdRGvZaUU5K",
    "scrolled": true
   },
   "outputs": [
    {
     "name": "stdout",
     "output_type": "stream",
     "text": [
      "29\n"
     ]
    }
   ],
   "source": [
    "for itera in range(30):#change Iteration count to process more images\n",
    "    clear_output(wait=True)  \n",
    "    batchX,batchY = next(train_data_gen)\n",
    "    batchS = smatrix(batchY,cl1)\n",
    "    fitmodel = new_model.fit(batchX,[batchS,batchY],epochs=100, validation_split=0.2,shuffle=True,use_multiprocessing=True,verbose=0)\n",
    "    gethl = K.function([new_model.input],[new_model.layers[-3].output])\n",
    "    zslX,zslY = next(zsl_data_gen)\n",
    "    shat = smatrix(zslY,zslcl1)  \n",
    "    spred = gethl([zslX])[0]\n",
    "    zsl_accuracy = []\n",
    "    for j in range(len(spred)):\n",
    "        count = 0\n",
    "        for i in range(len(spred[j])):\n",
    "            if (spred[j,i]==shat[j,i]):\n",
    "                count+=1\n",
    "            zsl_accuracy.append((count/85)*100)\n",
    "    attribute_accuracy.append(np.mean(zsl_accuracy))\n",
    "    batchX,batchY = next(train_data_gen)\n",
    "    Xtr1 = getf([batchX])[0]  \n",
    "    Xtr1 = NormalizeFea(Xtr1.T).T\n",
    "    Xtr1 = np.nan_to_num(Xtr1)  \n",
    "    Str1 = zmatrix(batchY,cl1)\n",
    "    Str1 = Str1.reshape(Str1.shape[0],Str1.shape[1]) \n",
    "    Xtr = np.append(Xtr,Xtr1,axis=0)  \n",
    "    Str = np.append(Str,Str1,axis=0)  \n",
    "    print(itera)  "
   ]
  },
  {
   "cell_type": "code",
   "execution_count": 27,
   "metadata": {},
   "outputs": [],
   "source": [
    "W = SAE(Xtr.T,Str.T,50000).T"
   ]
  },
  {
   "cell_type": "markdown",
   "metadata": {
    "colab_type": "text",
    "id": "z4SusqUIYWqx"
   },
   "source": [
    "ZSL Accuracy Measurement"
   ]
  },
  {
   "cell_type": "code",
   "execution_count": 28,
   "metadata": {
    "colab": {},
    "colab_type": "code",
    "id": "Vs-neUnjiTFt"
   },
   "outputs": [
    {
     "name": "stdout",
     "output_type": "stream",
     "text": [
      "0.718\n",
      "0.704\n",
      "0.704\n",
      "0.71\n",
      "0.684\n",
      "0.724\n",
      "0.716\n",
      "0.762\n",
      "0.724\n",
      "0.686\n",
      "0.72\n"
     ]
    }
   ],
   "source": [
    "zsl = []\n",
    "for itera in range(11):\n",
    "    zslX,zslY = next(zsl_data_gen)\n",
    "    Xte = getf([zslX])[0]\n",
    "    Xte = Xte.reshape(Xte.shape[0],Xte.shape[1])\n",
    "    Stegt = stegt(zslcl1,True)\n",
    "    Stegt = Stegt.reshape(Stegt.shape[0],Stegt.shape[1])\n",
    "    Yte = yte(zslY,zslcl1)\n",
    "    Yte = Yte.reshape(Yte.shape[0],1)\n",
    "    teclid = stegt(zslcl1,False)\n",
    "    teclid = teclid.reshape(teclid.shape[0],1)\n",
    "    Steest = Xte .dot(NormalizeFea(W))\n",
    "    dist = 1-spatial.distance.cdist(Steest,Stegt,'cosine')\n",
    "    hits=1\n",
    "    Yhit =np.zeros((dist.shape[0],hits))\n",
    "    for i in range(dist.shape[0]):\n",
    "        I=np.argsort(dist[i])[::-1]\n",
    "        Yhit[i,:]=teclid[I[0:hits]]\n",
    "    n=0\n",
    "    for i in range(dist.shape[0]):\n",
    "        if Yte[i] in Yhit[i,:]:\n",
    "            n=n+1\n",
    "    zsl_accuracy = n/dist.shape[0]\n",
    "    print(zsl_accuracy)   \n",
    "    zsl.append(zsl_accuracy)"
   ]
  },
  {
   "cell_type": "code",
   "execution_count": null,
   "metadata": {},
   "outputs": [],
   "source": []
  }
 ],
 "metadata": {
  "colab": {
   "collapsed_sections": [],
   "name": "InceptionV3Final",
   "provenance": []
  },
  "kernelspec": {
   "display_name": "Python 3",
   "language": "python",
   "name": "python3"
  },
  "language_info": {
   "codemirror_mode": {
    "name": "ipython",
    "version": 3
   },
   "file_extension": ".py",
   "mimetype": "text/x-python",
   "name": "python",
   "nbconvert_exporter": "python",
   "pygments_lexer": "ipython3",
   "version": "3.7.3"
  }
 },
 "nbformat": 4,
 "nbformat_minor": 1
}
